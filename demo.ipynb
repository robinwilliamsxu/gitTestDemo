{
 "cells": [
  {
   "cell_type": "code",
   "execution_count": 4,
   "id": "3a4fb8fe7af99fac",
   "metadata": {
    "ExecuteTime": {
     "end_time": "2024-05-11T09:24:29.168624Z",
     "start_time": "2024-05-11T09:24:29.156610Z"
    }
   },
   "outputs": [],
   "source": [
    "from gpt4all import GPT4All\n",
    "PATH = 'D:/Git/gpt4all'"
   ]
  },
  {
   "cell_type": "code",
   "execution_count": 6,
   "id": "166744d9ebfeeb80",
   "metadata": {
    "ExecuteTime": {
     "end_time": "2024-05-11T09:24:30.119706Z",
     "start_time": "2024-05-11T09:24:29.652239Z"
    }
   },
   "outputs": [
    {
     "name": "stdout",
     "output_type": "stream",
     "text": [
      "D:/Git/gpt4all/model\n"
     ]
    },
    {
     "ename": "FileNotFoundError",
     "evalue": "Model directory does not exist: WindowsPath('D:/Git/gpt4all/model')",
     "output_type": "error",
     "traceback": [
      "\u001b[1;31m---------------------------------------------------------------------------\u001b[0m",
      "\u001b[1;31mFileNotFoundError\u001b[0m                         Traceback (most recent call last)",
      "Cell \u001b[1;32mIn[6], line 4\u001b[0m\n\u001b[0;32m      2\u001b[0m MODEL_PATH \u001b[38;5;241m=\u001b[39m PATH \u001b[38;5;241m+\u001b[39m\u001b[38;5;124m'\u001b[39m\u001b[38;5;124m/model\u001b[39m\u001b[38;5;124m'\u001b[39m\n\u001b[0;32m      3\u001b[0m \u001b[38;5;28mprint\u001b[39m(MODEL_PATH)\n\u001b[1;32m----> 4\u001b[0m model \u001b[38;5;241m=\u001b[39m \u001b[43mGPT4All\u001b[49m\u001b[43m(\u001b[49m\u001b[43mmodel_name\u001b[49m\u001b[38;5;241;43m=\u001b[39;49m\u001b[43mMODEL_NAME\u001b[49m\u001b[43m,\u001b[49m\u001b[43m \u001b[49m\u001b[43mmodel_path\u001b[49m\u001b[38;5;241;43m=\u001b[39;49m\u001b[43mMODEL_PATH\u001b[49m\u001b[43m,\u001b[49m\u001b[43mdevice\u001b[49m\u001b[38;5;241;43m=\u001b[39;49m\u001b[38;5;124;43m'\u001b[39;49m\u001b[38;5;124;43mcpu\u001b[39;49m\u001b[38;5;124;43m'\u001b[39;49m\u001b[43m,\u001b[49m\u001b[43mallow_download\u001b[49m\u001b[38;5;241;43m=\u001b[39;49m\u001b[38;5;28;43;01mFalse\u001b[39;49;00m\u001b[43m)\u001b[49m\n\u001b[0;32m      5\u001b[0m \u001b[38;5;66;03m# model = GPT4All(model_name=MODEL_NAME, model_path=MODEL_PATH,device='gpu',allow_download=False)\u001b[39;00m\n",
      "File \u001b[1;32mc:\\Users\\rxu\\AppData\\Local\\miniforge3\\envs\\py38\\lib\\site-packages\\gpt4all\\gpt4all.py:205\u001b[0m, in \u001b[0;36mGPT4All.__init__\u001b[1;34m(self, model_name, model_path, model_type, allow_download, n_threads, device, n_ctx, ngl, verbose)\u001b[0m\n\u001b[0;32m    203\u001b[0m \u001b[38;5;28mself\u001b[39m\u001b[38;5;241m.\u001b[39mmodel_type \u001b[38;5;241m=\u001b[39m model_type\n\u001b[0;32m    204\u001b[0m \u001b[38;5;66;03m# Retrieve model and download if allowed\u001b[39;00m\n\u001b[1;32m--> 205\u001b[0m \u001b[38;5;28mself\u001b[39m\u001b[38;5;241m.\u001b[39mconfig: ConfigType \u001b[38;5;241m=\u001b[39m \u001b[38;5;28;43mself\u001b[39;49m\u001b[38;5;241;43m.\u001b[39;49m\u001b[43mretrieve_model\u001b[49m\u001b[43m(\u001b[49m\u001b[43mmodel_name\u001b[49m\u001b[43m,\u001b[49m\u001b[43m \u001b[49m\u001b[43mmodel_path\u001b[49m\u001b[38;5;241;43m=\u001b[39;49m\u001b[43mmodel_path\u001b[49m\u001b[43m,\u001b[49m\u001b[43m \u001b[49m\u001b[43mallow_download\u001b[49m\u001b[38;5;241;43m=\u001b[39;49m\u001b[43mallow_download\u001b[49m\u001b[43m,\u001b[49m\u001b[43m \u001b[49m\u001b[43mverbose\u001b[49m\u001b[38;5;241;43m=\u001b[39;49m\u001b[43mverbose\u001b[49m\u001b[43m)\u001b[49m\n\u001b[0;32m    206\u001b[0m \u001b[38;5;28mself\u001b[39m\u001b[38;5;241m.\u001b[39mmodel \u001b[38;5;241m=\u001b[39m LLModel(\u001b[38;5;28mself\u001b[39m\u001b[38;5;241m.\u001b[39mconfig[\u001b[38;5;124m\"\u001b[39m\u001b[38;5;124mpath\u001b[39m\u001b[38;5;124m\"\u001b[39m], n_ctx, ngl)\n\u001b[0;32m    207\u001b[0m \u001b[38;5;28;01mif\u001b[39;00m device \u001b[38;5;129;01mis\u001b[39;00m \u001b[38;5;129;01mnot\u001b[39;00m \u001b[38;5;28;01mNone\u001b[39;00m \u001b[38;5;129;01mand\u001b[39;00m device \u001b[38;5;241m!=\u001b[39m \u001b[38;5;124m\"\u001b[39m\u001b[38;5;124mcpu\u001b[39m\u001b[38;5;124m\"\u001b[39m:\n",
      "File \u001b[1;32mc:\\Users\\rxu\\AppData\\Local\\miniforge3\\envs\\py38\\lib\\site-packages\\gpt4all\\gpt4all.py:304\u001b[0m, in \u001b[0;36mGPT4All.retrieve_model\u001b[1;34m(cls, model_name, model_path, allow_download, verbose)\u001b[0m\n\u001b[0;32m    301\u001b[0m     model_path \u001b[38;5;241m=\u001b[39m Path(model_path)\n\u001b[0;32m    303\u001b[0m \u001b[38;5;28;01mif\u001b[39;00m \u001b[38;5;129;01mnot\u001b[39;00m model_path\u001b[38;5;241m.\u001b[39mexists():\n\u001b[1;32m--> 304\u001b[0m     \u001b[38;5;28;01mraise\u001b[39;00m \u001b[38;5;167;01mFileNotFoundError\u001b[39;00m(\u001b[38;5;124mf\u001b[39m\u001b[38;5;124m\"\u001b[39m\u001b[38;5;124mModel directory does not exist: \u001b[39m\u001b[38;5;132;01m{\u001b[39;00mmodel_path\u001b[38;5;132;01m!r}\u001b[39;00m\u001b[38;5;124m\"\u001b[39m)\n\u001b[0;32m    306\u001b[0m model_dest \u001b[38;5;241m=\u001b[39m model_path \u001b[38;5;241m/\u001b[39m model_filename\n\u001b[0;32m    307\u001b[0m \u001b[38;5;28;01mif\u001b[39;00m model_dest\u001b[38;5;241m.\u001b[39mexists():\n",
      "\u001b[1;31mFileNotFoundError\u001b[0m: Model directory does not exist: WindowsPath('D:/Git/gpt4all/model')"
     ]
    }
   ],
   "source": [
    "MODEL_NAME = 'mistral-7b-instruct-v0.1.Q4_0.gguf'\n",
    "MODEL_PATH = PATH +'/model'\n",
    "print(MODEL_PATH)\n",
    "model = GPT4All(model_name=MODEL_NAME, model_path=MODEL_PATH,device='cpu',allow_download=False)\n",
    "# model = GPT4All(model_name=MODEL_NAME, model_path=MODEL_PATH,device='gpu',allow_download=False)"
   ]
  },
  {
   "cell_type": "code",
   "execution_count": null,
   "id": "adcd65b0999fffda",
   "metadata": {
    "ExecuteTime": {
     "end_time": "2024-05-11T09:25:50.070486Z",
     "start_time": "2024-05-11T09:25:17.182929Z"
    }
   },
   "outputs": [],
   "source": [
    "text = '如何计算闰年？并给出一个python程序？'\n",
    "print(model.generate(text))\n"
   ]
  },
  {
   "cell_type": "code",
   "execution_count": null,
   "id": "f5238bdbac89cd86",
   "metadata": {},
   "outputs": [],
   "source": []
  }
 ],
 "metadata": {
  "kernelspec": {
   "display_name": "Python 3",
   "language": "python",
   "name": "python3"
  },
  "language_info": {
   "codemirror_mode": {
    "name": "ipython",
    "version": 3
   },
   "file_extension": ".py",
   "mimetype": "text/x-python",
   "name": "python",
   "nbconvert_exporter": "python",
   "pygments_lexer": "ipython3",
   "version": "3.8.18"
  }
 },
 "nbformat": 4,
 "nbformat_minor": 5
}
